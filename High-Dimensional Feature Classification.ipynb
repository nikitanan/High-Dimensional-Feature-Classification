{
 "cells": [
  {
   "cell_type": "code",
   "execution_count": 11,
   "id": "ec5173f9-8dac-4a96-b396-b5444307890b",
   "metadata": {},
   "outputs": [],
   "source": [
    "%%capture\n",
    "import numpy as np\n",
    "import pandas as pd\n",
    "import matplotlib.pyplot as plt\n",
    "from sklearn.linear_model import LogisticRegression\n",
    "from sklearn.ensemble import RandomForestClassifier\n",
    "from sklearn.model_selection import train_test_split, GridSearchCV\n",
    "from sklearn.preprocessing import StandardScaler\n",
    "from sklearn.metrics import accuracy_score\n",
    "!pip install xgboost\n",
    "import xgboost as xgb\n",
    "!pip install catboost\n",
    "\n",
    "from catboost import CatBoostClassifier\n",
    "!pip install lightgbm\n",
    "\n",
    "from lightgbm import LGBMClassifier\n",
    "from sklearn.tree import DecisionTreeClassifier\n",
    "from sklearn.ensemble import (ExtraTreesClassifier,\n",
    "                              GradientBoostingClassifier, AdaBoostClassifier)\n",
    "from sklearn.ensemble import VotingClassifier\n",
    "from sklearn.naive_bayes import GaussianNB\n",
    "from sklearn.decomposition import PCA "
   ]
  },
  {
   "cell_type": "code",
   "execution_count": 12,
   "id": "56942cbf-113a-4fc1-9cfa-ed0418b6ecf8",
   "metadata": {},
   "outputs": [],
   "source": [
    "# Load training features\n",
    "train_feat = np.load(\"train_feature.npz\")\n",
    "valid_feat = np.load(\"valid_feature.npz\")\n",
    "\n",
    "train_feat_X = train_feat['features']\n",
    "train_feat_Y = train_feat['label']\n",
    "\n",
    "valid_feat_X = valid_feat['features']\n",
    "valid_feat_Y = valid_feat['label']\n",
    "\n",
    "# Load test features\n",
    "test_feat_X = np.load(\"test_feature.npz\")['features']"
   ]
  },
  {
   "cell_type": "code",
   "execution_count": 13,
   "id": "63299a65-24b4-46f8-9c7a-99a24d7bf1e9",
   "metadata": {},
   "outputs": [
    {
     "data": {
      "text/plain": [
       "(7080, 13, 768)"
      ]
     },
     "execution_count": 13,
     "metadata": {},
     "output_type": "execute_result"
    }
   ],
   "source": [
    "train_feat_X.shape"
   ]
  },
  {
   "cell_type": "code",
   "execution_count": 14,
   "id": "4e321a55-025a-4f61-bf21-cbb522be14c0",
   "metadata": {},
   "outputs": [
    {
     "data": {
      "text/plain": [
       "(489, 13, 768)"
      ]
     },
     "execution_count": 14,
     "metadata": {},
     "output_type": "execute_result"
    }
   ],
   "source": [
    "valid_feat_X.shape"
   ]
  },
  {
   "cell_type": "code",
   "execution_count": 15,
   "id": "b6df158c-f46f-4827-b915-eb8606edb31e",
   "metadata": {},
   "outputs": [
    {
     "data": {
      "text/plain": [
       "(2232, 13, 768)"
      ]
     },
     "execution_count": 15,
     "metadata": {},
     "output_type": "execute_result"
    }
   ],
   "source": [
    "test_feat_X.shape"
   ]
  },
  {
   "cell_type": "code",
   "execution_count": 16,
   "id": "b3f65bc5-44cf-407d-bbc1-dce1737a18fe",
   "metadata": {},
   "outputs": [],
   "source": [
    "train_X_reshaped = np.reshape(train_feat_X, (7080,13*768))\n",
    "valid_X_reshaped = np.reshape(valid_feat_X, (489,13*768))\n",
    "test_X_reshaped = np.reshape(test_feat_X, (2232,13*768))"
   ]
  },
  {
   "cell_type": "code",
   "execution_count": 17,
   "id": "9df46027-2191-4f2b-9484-8bb994edb3c5",
   "metadata": {},
   "outputs": [],
   "source": [
    "train_Y = train_feat_Y\n",
    "valid_Y = valid_feat_Y"
   ]
  },
  {
   "cell_type": "code",
   "execution_count": 18,
   "id": "3ad131f8-4580-48a9-a9e3-9d6982339b43",
   "metadata": {},
   "outputs": [],
   "source": [
    "scaler = StandardScaler()\n",
    "train_feat_X_scaled = scaler.fit_transform(train_X_reshaped)\n",
    "valid_feat_X_scaled = scaler.transform(valid_X_reshaped)"
   ]
  },
  {
   "cell_type": "code",
   "execution_count": 19,
   "id": "bde3119c-2c80-4d7b-a33d-e53370e51d5f",
   "metadata": {},
   "outputs": [],
   "source": [
    "pca = PCA(n_components=0.95)\n",
    "pca.fit(train_feat_X_scaled)\n",
    "train_X = pca.transform(train_feat_X_scaled)\n",
    "valid_X = pca.transform(valid_feat_X_scaled)"
   ]
  },
  {
   "cell_type": "code",
   "execution_count": 22,
   "id": "29d17f52-1a88-4f23-a9aa-f266e99da14a",
   "metadata": {},
   "outputs": [
    {
     "data": {
      "text/plain": [
       "(7080, 215)"
      ]
     },
     "execution_count": 22,
     "metadata": {},
     "output_type": "execute_result"
    }
   ],
   "source": [
    "train_X.shape"
   ]
  },
  {
   "cell_type": "code",
   "execution_count": 23,
   "id": "60944db0-6879-4928-bfc6-2064eeedb44d",
   "metadata": {},
   "outputs": [],
   "source": [
    "def tune_and_evaluate(model, param_grid):\n",
    "    grid_search = GridSearchCV(model, param_grid, cv=5, scoring='accuracy', n_jobs=-1)\n",
    "    grid_search.fit(train_X, train_Y)\n",
    "    best_model = grid_search.best_estimator_\n",
    "    valid_pred = best_model.predict(valid_X)\n",
    "    valid_acc = accuracy_score(valid_Y, valid_pred)\n",
    "    return grid_search.best_params_, valid_acc, best_model"
   ]
  },
  {
   "cell_type": "code",
   "execution_count": 24,
   "id": "cf7d9950-cc1f-4ee6-914c-afd9238c9593",
   "metadata": {},
   "outputs": [],
   "source": [
    "rf_param_grid = {\n",
    "    'n_estimators': [100, 200],\n",
    "    'max_depth': [None, 10],\n",
    "    'min_samples_split': [2, 5]\n",
    "}\n",
    "rf_model = RandomForestClassifier()\n",
    "rf_params, rf_acc, best_rf_model = tune_and_evaluate(rf_model, rf_param_grid)"
   ]
  },
  {
   "cell_type": "code",
   "execution_count": 30,
   "id": "4ca7684b-d9ff-4402-b391-7ce0b8710536",
   "metadata": {},
   "outputs": [
    {
     "name": "stdout",
     "output_type": "stream",
     "text": [
      "Best Hyperparameters for Random Forest: {'max_depth': None, 'min_samples_split': 5, 'n_estimators': 200}\n",
      "Best Accuracy for Random Forest: 0.9775051124744376\n",
      "Trained Random Forest Model: RandomForestClassifier(min_samples_split=5, n_estimators=200)\n"
     ]
    }
   ],
   "source": [
    "# Print the results\n",
    "print(\"Best Hyperparameters for Random Forest:\", rf_params)\n",
    "print(\"Best Accuracy for Random Forest:\", rf_acc)\n",
    "print(\"Trained Random Forest Model:\", best_rf_model)\n"
   ]
  },
  {
   "cell_type": "code",
   "execution_count": 31,
   "id": "9eec42e0-b97d-433f-9ca6-a7926826be30",
   "metadata": {},
   "outputs": [],
   "source": [
    "nb_param_grid = {\n",
    "    'var_smoothing': np.logspace(0,-9, num=100)\n",
    "}\n",
    "nb_model = GaussianNB()\n",
    "nb_params, nb_acc, best_nb_model = tune_and_evaluate(nb_model, nb_param_grid)"
   ]
  },
  {
   "cell_type": "code",
   "execution_count": 27,
   "id": "927a4ba0-1fe2-42a8-9c45-df467a2f51cc",
   "metadata": {},
   "outputs": [
    {
     "name": "stdout",
     "output_type": "stream",
     "text": [
      "Best Hyperparameters for Random Forest: {'var_smoothing': np.float64(1.0)}\n",
      "Best Accuracy for Random Forest: 0.9243353783231084\n",
      "Trained Random Forest Model: GaussianNB(var_smoothing=np.float64(1.0))\n"
     ]
    }
   ],
   "source": [
    "# Print the results\n",
    "print(\"Best Hyperparameters for Random Forest:\", nb_params)\n",
    "print(\"Best Accuracy for Random Forest:\", nb_acc)\n",
    "print(\"Trained Random Forest Model:\", best_nb_model)"
   ]
  },
  {
   "cell_type": "code",
   "execution_count": 28,
   "id": "78c40117-5e83-4740-b9c3-e6968f81c648",
   "metadata": {},
   "outputs": [],
   "source": [
    "from sklearn.svm import SVC\n",
    "svm_param_grid = {\n",
    "    'C': [0.1],\n",
    "    'kernel': ['linear', 'rbf', 'poly']}\n",
    "svm_model = SVC()\n",
    "svm_params, svm_acc, best_svm_model = tune_and_evaluate(svm_model, svm_param_grid)"
   ]
  },
  {
   "cell_type": "code",
   "execution_count": 29,
   "id": "d4b082fa-6733-4d45-bc56-8e72e0d71672",
   "metadata": {},
   "outputs": [
    {
     "name": "stdout",
     "output_type": "stream",
     "text": [
      "Best Hyperparameters for Random Forest: {'C': 0.1, 'kernel': 'linear'}\n",
      "Best Accuracy for Random Forest: 0.9795501022494888\n",
      "Trained Random Forest Model: SVC(C=0.1, kernel='linear')\n"
     ]
    }
   ],
   "source": [
    "# Print the results\n",
    "print(\"Best Hyperparameters for Random Forest:\", svm_params)\n",
    "print(\"Best Accuracy for Random Forest:\", svm_acc)\n",
    "print(\"Trained Random Forest Model:\", best_svm_model)"
   ]
  },
  {
   "cell_type": "code",
   "execution_count": 32,
   "id": "c72d13c5-0be9-4930-897d-ee80b9b4eb29",
   "metadata": {},
   "outputs": [
    {
     "name": "stdout",
     "output_type": "stream",
     "text": [
      "Validation Accuracy (Voting Classifier): 0.9775\n"
     ]
    }
   ],
   "source": [
    "voting_clf = VotingClassifier(estimators=[\n",
    "    ('svm', best_svm_model),\n",
    "    ('naive_bayes', nb_model),\n",
    "    ('random_forest', best_rf_model)\n",
    "], voting='hard')\n",
    "voting_clf.fit(train_X, train_Y)\n",
    "voting_pred = voting_clf.predict(valid_X)\n",
    "voting_acc = accuracy_score(valid_Y, voting_pred)\n",
    "\n",
    "print(f\"Validation Accuracy (Voting Classifier): {voting_acc:.4f}\")"
   ]
  },
  {
   "cell_type": "code",
   "execution_count": 33,
   "id": "964ef6fe-f8a9-417f-b772-c83bff1f2fab",
   "metadata": {},
   "outputs": [],
   "source": [
    "train_percentages = [0.2, 0.4, 0.6, 0.8, 1.0]\n",
    "\n",
    "def plot_accuracy_vs_data(model, name):\n",
    "    results = []\n",
    "    for pct in train_percentages:\n",
    "      if pct == 1.0:\n",
    "        model.fit(train_X, train_Y)\n",
    "        valid_pred = model.predict(valid_X)\n",
    "        acc = accuracy_score(valid_Y, valid_pred)\n",
    "        results.append(acc)\n",
    "      else:\n",
    "        train_X_subset, _, train_Y_subset, _ = train_test_split(train_X, train_Y, train_size=pct, random_state=42)\n",
    "        model.fit(train_X_subset, train_Y_subset)\n",
    "        valid_pred = model.predict(valid_X)\n",
    "        acc = accuracy_score(valid_Y, valid_pred)\n",
    "        results.append(acc)\n",
    "    plt.plot([p * 100 for p in train_percentages], results, marker='o', label=name)"
   ]
  },
  {
   "cell_type": "code",
   "execution_count": 34,
   "id": "aa5a5d16-80e5-40d1-a0fd-23e09d200713",
   "metadata": {},
   "outputs": [
    {
     "data": {
      "image/png": "[encoded data removed]",
      "text/plain": [
       "<Figure size 1000x600 with 1 Axes>"
      ]
     },
     "metadata": {},
     "output_type": "display_data"
    }
   ],
   "source": [
    "plt.figure(figsize=(10, 6))\n",
    "plot_accuracy_vs_data(best_svm_model, 'SVM')\n",
    "plot_accuracy_vs_data(nb_model, 'Naive Bayes')\n",
    "plot_accuracy_vs_data(best_rf_model, 'Random Forest')\n",
    "plot_accuracy_vs_data(voting_clf, 'Voting Classifier')\n",
    "plt.xlabel(\"Percentage of Training Data (%)\")\n",
    "plt.ylabel(\"Validation Accuracy\")\n",
    "plt.title(\"Validation Accuracy vs Training Data Percentage\")\n",
    "plt.legend()\n",
    "plt.show()"
   ]
  },
  {
   "cell_type": "code",
   "execution_count": null,
   "id": "60a3071f-c5bf-4559-b93c-8aa941a0949e",
   "metadata": {},
   "outputs": [],
   "source": []
  }
 ],
 "metadata": {
  "kernelspec": {
   "display_name": "Python 3 (ipykernel)",
   "language": "python",
   "name": "python3"
  },
  "language_info": {
   "codemirror_mode": {
    "name": "ipython",
    "version": 3
   },
   "file_extension": ".py",
   "mimetype": "text/x-python",
   "name": "python",
   "nbconvert_exporter": "python",
   "pygments_lexer": "ipython3",
   "version": "3.12.3"
  }
 },
 "nbformat": 4,
 "nbformat_minor": 5
}
